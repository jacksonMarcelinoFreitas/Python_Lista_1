{
 "cells": [
  {
   "cell_type": "code",
   "execution_count": 12,
   "id": "a65b0a79",
   "metadata": {},
   "outputs": [
    {
     "name": "stdout",
     "output_type": "stream",
     "text": [
      "Informe o primeiro número: 63\n",
      "Informe o segundo número: 95\n",
      "O menor número é : 63\n"
     ]
    }
   ],
   "source": [
    "#01) Faça um Programa que peça dois números e imprima o menor deles.\n",
    "num1 = (int(input(\"Informe o primeiro número: \")))\n",
    "num2 = (int(input(\"Informe o segundo número: \")))\n",
    "\n",
    "min = num1\n",
    "\n",
    "if num2 < min:\n",
    "    num2 = min\n",
    "    print(\"O menor número é : %d\" %(num2))\n",
    "\n",
    "else:\n",
    "    print(\"O menor número é : %d\" %(num1))\n",
    "    "
   ]
  },
  {
   "cell_type": "code",
   "execution_count": null,
   "id": "c85d8db5",
   "metadata": {},
   "outputs": [],
   "source": [
    "#02) Faça um Programa que peça um valor e mostre na tela se o valor é positivo ou negativo.\n",
    "num1 = (float(input(\"Informe um valor : \")))\n",
    "if num1 < 0:\n",
    "    print(\"Número negativo\")\n",
    "else:\n",
    "    print(\"Número positivo\")"
   ]
  },
  {
   "cell_type": "code",
   "execution_count": null,
   "id": "daaccbea",
   "metadata": {},
   "outputs": [],
   "source": [
    "#03) Faça um Programa que peça um número inteiro e determine se ele é par ou ímpar. Dica: utilize o operador módulo (resto da divisão).\n",
    "numero = (int(input(\"Informe um número : \")))\n",
    "if numero %2 == 0:\n",
    "    print(\"Número Par\")\n",
    "else:\n",
    "    print(\"Número Impar\")"
   ]
  },
  {
   "cell_type": "code",
   "execution_count": null,
   "id": "4150e28a",
   "metadata": {},
   "outputs": [],
   "source": [
    "#04) Faça um Programa que verifique se uma letra digitada é \"F\" ou \"M\". Conforme a letra escrever: F - Feminino, M - Masculino, Sexo Inválido (Utilize elif).\n",
    "letra = (str(input(\"Digite F - Feminino ou M - Masculino \")))\n",
    "letra1 = letra.upper()\n",
    "\n",
    "print(\"Você digitou : %s \" %(letra1))\n",
    "\n",
    "if letra1  == \"F\":\n",
    "    print(\"O sexo é feminino ! \")\n",
    "    \n",
    "elif letra1 == \"M\":\n",
    "    print(\"O sexo é masculino !\")\n",
    "\n"
   ]
  },
  {
   "cell_type": "code",
   "execution_count": null,
   "id": "c8abeba3",
   "metadata": {},
   "outputs": [],
   "source": [
    "#05) Faça um programa para a leitura de duas notas parciais de um aluno. O programa deve calcular a média alcançada por aluno e apresentar:\n",
    "#o A mensagem \"Aprovado\", se a média alcançada for maior ou igual a seis;\n",
    "#o A mensagem \"Reprovado\",se a média for menor do que seis;\n",
    "#o A mensagem \"Aprovado com Distinção\", se a média for igual a dez.\n",
    "\n",
    "nota1 = int(input(\" Informe a primeira nota : \"))\n",
    "nota2 = int(input(\" Informe a segunda nota: \"))\n",
    "media = (nota1 + nota2) / 2\n",
    "print (\" A sua média é de : %d \\n\" %(media))\n",
    "if media >= 6:\n",
    "    print(\"APROVADO\")\n",
    "elif media < 6:\n",
    "    print(\"REPROVADO\")\n",
    "elif media == 10:\n",
    "    print(\"APROVADO COM DISTINÇÃO\")\n",
    "\n",
    "\n"
   ]
  },
  {
   "cell_type": "code",
   "execution_count": null,
   "id": "f2db702e",
   "metadata": {},
   "outputs": [],
   "source": [
    "# 06) As Organizações Tabajara resolveram dar um aumento de salário aos seus colaboradores e lhe contraram para desenvolver\n",
    "# o programa que calculará os reajustes.\n",
    "# o Faça  um  programa  que  recebe  o  salário  de  um  colaborador  e  o  reajuste  segundo  o  seguinte critério, baseado no salário atual:\n",
    "# o salários até R$ 280,00 (incluindo) : aumento de 20%\n",
    "# o salários entre R$ 280,00 e R$ 700,00 : aumento de 15%\n",
    "# o salários entre R$ 700,00 e R$ 1500,00 : aumento de 10%\n",
    "# o salários de R$ 1500,00 em diante : aumento de 5% \n",
    "\n",
    "# Após o aumento ser realizado, informe na tela:\n",
    "# o O salário antes do reajuste;\n",
    "# o O percentual de aumento aplicado;\n",
    "# o O valor do aumento;\n",
    "# o O novo salário, após o aumento.\n",
    "\n",
    "salario = float(input(\" Informe o salário : \"))\n",
    "if salario <= 280:\n",
    "    reajuste = salario * 1.2\n",
    "    aumentoAplicado = salario*0.2\n",
    "    print(\" O percentual aplicado é de 20%\")\n",
    "    print( \" O seu salário é : %.2f\" %(salario))\n",
    "    print( \" O reajuste é de : %.2f\" %(reajuste))\n",
    "    print( \" O valor do aumento  é de : %.2f\" %(aumentoAplicado))\n",
    "    \n",
    "elif salario > 280 and salario <= 700:\n",
    "    reajuste = salario * 1.15\n",
    "    aumentoAplicado = salario*0.15\n",
    "    print(\" O percentual aplicado é de 15%\")\n",
    "    print( \" O seu salário é : %.2f\" %(salario))\n",
    "    print( \" O reajuste é de : %.2f\" %(reajuste))\n",
    "    print( \" O valor do aumento  é de : %.2f\" %(aumentoAplicado))\n",
    "    \n",
    "elif salario > 700 and salario <= 1500:\n",
    "    reajuste = salario * 1.1\n",
    "    aumentoAplicado = salario*0.10\n",
    "    print(\" O percentual aplicado é de 10%\")\n",
    "    print( \" O seu salário é : %.2f\" %(salario))\n",
    "    print( \" O reajuste é de : %.2f\" %(reajuste))\n",
    "    print( \" O valor do aumento  é de : %.2f\" %(aumentoAplicado))\n",
    "    \n",
    "elif salario > 1500:\n",
    "    reajuste = salario * 1.05\n",
    "    aumentoAplicado = salario*0.05\n",
    "    print(\" O percentual aplicado é de 5%\")\n",
    "    print( \" O seu salário é : %.2f\" %(salario))\n",
    "    print( \" O reajuste é de : %.2f\" %(reajuste))\n",
    "    print( \" O valor do aumento  é de : %.2f\" %(aumentoAplicado))\n",
    "\n",
    "    \n",
    "    "
   ]
  },
  {
   "cell_type": "code",
   "execution_count": 5,
   "id": "8a95d0a7",
   "metadata": {},
   "outputs": [
    {
     "name": "stdout",
     "output_type": "stream",
     "text": [
      " Digite um número correspondente ao dia da semana : 5\n",
      " Quinta \n"
     ]
    }
   ],
   "source": [
    "# 7.Faça um Programa que leia um número e exiba o dia correspondente da semana. \n",
    "# (1-Domingo, 2- Segunda, etc.), se digitar outro valor deve aparecer valor inválido\n",
    "\n",
    "dia = int(input(\" Digite um número correspondente ao dia da semana : \"))\n",
    "if dia == 1:\n",
    "    print(\" Domingo \")\n",
    "elif dia == 2:\n",
    "    print(\" Segunda \")\n",
    "elif dia == 3:\n",
    "    print(\" Terça \")\n",
    "elif dia == 4:\n",
    "    print(\" Quarta \")\n",
    "elif dia == 5:\n",
    "    print(\" Quinta \")\n",
    "elif dia == 6:\n",
    "    print(\" Sexta \")\n",
    "elif dia == 7:\n",
    "    print(\" Sábado \")\n",
    "else:\n",
    "    print (\" Valor inválido \")\n",
    "\n",
    " \n",
    "    "
   ]
  },
  {
   "cell_type": "code",
   "execution_count": null,
   "id": "db7d04a7",
   "metadata": {},
   "outputs": [],
   "source": []
  }
 ],
 "metadata": {
  "kernelspec": {
   "display_name": "Python 3 (ipykernel)",
   "language": "python",
   "name": "python3"
  },
  "language_info": {
   "codemirror_mode": {
    "name": "ipython",
    "version": 3
   },
   "file_extension": ".py",
   "mimetype": "text/x-python",
   "name": "python",
   "nbconvert_exporter": "python",
   "pygments_lexer": "ipython3",
   "version": "3.9.6"
  }
 },
 "nbformat": 4,
 "nbformat_minor": 5
}
